{
 "cells": [
  {
   "cell_type": "raw",
   "id": "6641398d",
   "metadata": {
    "_cell_guid": "b1076dfc-b9ad-4769-8c92-a6c4dae69d19",
    "_uuid": "8f2839f25d086af736a60e9eeb907d3b93b6e0e5",
    "papermill": {
     "duration": 0.005716,
     "end_time": "2024-08-13T16:15:51.436507",
     "exception": false,
     "start_time": "2024-08-13T16:15:51.430791",
     "status": "completed"
    },
    "tags": []
   },
   "source": [
    "图像数据和元数据预测"
   ]
  },
  {
   "cell_type": "code",
   "execution_count": 1,
   "id": "81585ca3",
   "metadata": {
    "execution": {
     "iopub.execute_input": "2024-08-13T16:15:51.448730Z",
     "iopub.status.busy": "2024-08-13T16:15:51.448287Z",
     "iopub.status.idle": "2024-08-13T16:16:00.515820Z",
     "shell.execute_reply": "2024-08-13T16:16:00.514328Z"
    },
    "papermill": {
     "duration": 9.076877,
     "end_time": "2024-08-13T16:16:00.518722",
     "exception": false,
     "start_time": "2024-08-13T16:15:51.441845",
     "status": "completed"
    },
    "tags": []
   },
   "outputs": [],
   "source": [
    "import io\n",
    "import os.path\n",
    "\n",
    "import h5py\n",
    "import numpy as np\n",
    "import pandas as pd\n",
    "import pandas.api.types\n",
    "from PIL import Image\n",
    "\n",
    "import torch\n",
    "import torch.nn as nn\n",
    "from torchvision import models, transforms\n",
    "\n",
    "from sklearn.preprocessing import StandardScaler\n",
    "from sklearn.metrics import roc_curve, auc\n",
    "\n",
    "\n",
    "torch.set_printoptions(precision=5, sci_mode=False)"
   ]
  },
  {
   "cell_type": "code",
   "execution_count": 2,
   "id": "07b38ddd",
   "metadata": {
    "execution": {
     "iopub.execute_input": "2024-08-13T16:16:00.531529Z",
     "iopub.status.busy": "2024-08-13T16:16:00.530423Z",
     "iopub.status.idle": "2024-08-13T16:16:00.543708Z",
     "shell.execute_reply": "2024-08-13T16:16:00.542459Z"
    },
    "papermill": {
     "duration": 0.022309,
     "end_time": "2024-08-13T16:16:00.546360",
     "exception": false,
     "start_time": "2024-08-13T16:16:00.524051",
     "status": "completed"
    },
    "tags": []
   },
   "outputs": [],
   "source": [
    "class ParticipantVisibleError(Exception):\n",
    "    pass\n",
    "\n",
    "\n",
    "def score(solution: pd.DataFrame, submission: pd.DataFrame, min_tpr: float = 0.80) -> float:\n",
    "    if not pandas.api.types.is_numeric_dtype(submission.values):\n",
    "        raise ParticipantVisibleError('Submission target column must be numeric')\n",
    "\n",
    "    v_gt = abs(np.asarray(solution.values) - 1)\n",
    "\n",
    "    v_pred = -1.0 * np.asarray(submission.values)\n",
    "\n",
    "    max_fpr = abs(1 - min_tpr)\n",
    "\n",
    "    # fpr 假正例， tpr真正例（召回率）\n",
    "    fpr, tpr, _ = roc_curve(v_gt, v_pred, sample_weight=None)\n",
    "    if max_fpr is None or max_fpr == 1:\n",
    "        return auc(fpr, tpr)\n",
    "    if max_fpr <= 0 or max_fpr > 1:\n",
    "        raise ValueError(\"Expected min_tpr in range [0, 1), got: %r\" % min_tpr)\n",
    "\n",
    "    # 从排好序的fpr(由小到大)中返回小于 max_fpr=0.2 的索引值\n",
    "    stop = np.searchsorted(fpr, max_fpr, \"right\")\n",
    "    x_interp = [fpr[stop - 1], fpr[stop]]\n",
    "    y_interp = [tpr[stop - 1], tpr[stop]]\n",
    "    tpr = np.append(tpr[:stop], np.interp(max_fpr, x_interp, y_interp))\n",
    "    fpr = np.append(fpr[:stop], max_fpr)\n",
    "    partial_auc = auc(fpr, tpr)\n",
    "\n",
    "    return partial_auc"
   ]
  },
  {
   "cell_type": "code",
   "execution_count": null,
   "id": "09a2accc",
   "metadata": {
    "papermill": {
     "duration": 0.004719,
     "end_time": "2024-08-13T16:16:00.556057",
     "exception": false,
     "start_time": "2024-08-13T16:16:00.551338",
     "status": "completed"
    },
    "tags": []
   },
   "outputs": [],
   "source": []
  },
  {
   "cell_type": "code",
   "execution_count": 3,
   "id": "73380bfa",
   "metadata": {
    "execution": {
     "iopub.execute_input": "2024-08-13T16:16:00.567974Z",
     "iopub.status.busy": "2024-08-13T16:16:00.567073Z",
     "iopub.status.idle": "2024-08-13T16:16:00.577501Z",
     "shell.execute_reply": "2024-08-13T16:16:00.576234Z"
    },
    "papermill": {
     "duration": 0.019246,
     "end_time": "2024-08-13T16:16:00.580184",
     "exception": false,
     "start_time": "2024-08-13T16:16:00.560938",
     "status": "completed"
    },
    "tags": []
   },
   "outputs": [],
   "source": [
    "class NetWork(nn.Module):\n",
    "    def __init__(self, in_features, num_classes):\n",
    "        super(NetWork, self).__init__()\n",
    "        resnet = models.resnet34()\n",
    "        resnet.load_state_dict(torch.load(r'./models/resnet34-b627a593.pth'))\n",
    "        # for param in net.parameters():\n",
    "        #     param.requires_grad = False\n",
    "        resnet.fc = nn.Linear(512, 512)\n",
    "        self.resnet = resnet\n",
    "        self.layer = nn.Sequential(\n",
    "            nn.Linear(in_features, 256),\n",
    "            nn.ReLU(),\n",
    "            nn.Linear(256, 512),\n",
    "            nn.ReLU(),\n",
    "            nn.Linear(512, 512),\n",
    "        )\n",
    "        self.merge_linear = nn.Linear(1024, num_classes)\n",
    "\n",
    "    def forward(self, img_, meta_):\n",
    "        img_output = self.resnet(img_)\n",
    "        meta_output = self.layer(meta_)\n",
    "        new_data = torch.concat([img_output, meta_output], dim=1)\n",
    "        output = self.merge_linear(new_data)\n",
    "        return output"
   ]
  },
  {
   "cell_type": "markdown",
   "id": "825b9d61",
   "metadata": {
    "papermill": {
     "duration": 0.004781,
     "end_time": "2024-08-13T16:16:00.590165",
     "exception": false,
     "start_time": "2024-08-13T16:16:00.585384",
     "status": "completed"
    },
    "tags": []
   },
   "source": [
    "## 加载数据"
   ]
  },
  {
   "cell_type": "code",
   "execution_count": 4,
   "id": "ab9a6e99",
   "metadata": {
    "execution": {
     "iopub.execute_input": "2024-08-13T16:16:00.602453Z",
     "iopub.status.busy": "2024-08-13T16:16:00.602015Z",
     "iopub.status.idle": "2024-08-13T16:16:10.615101Z",
     "shell.execute_reply": "2024-08-13T16:16:10.613771Z"
    },
    "papermill": {
     "duration": 10.02299,
     "end_time": "2024-08-13T16:16:10.618225",
     "exception": false,
     "start_time": "2024-08-13T16:16:00.595235",
     "status": "completed"
    },
    "tags": []
   },
   "outputs": [],
   "source": [
    "data_path = r\"./isic-2024-challenge\"\n",
    "device = torch.device('cuda' if torch.cuda.is_available() else 'cpu')\n",
    "\n",
    "net = NetWork(in_features=27, num_classes=2)\n",
    "auc_path = r'./models/best_auc_score.pkl'\n",
    "missing_keys, unexpected_keys = net.load_state_dict(\n",
    "    torch.load(auc_path, map_location=torch.device('cpu'))['net_state_dict']\n",
    ")\n",
    "\n",
    "use_cols = ['isic_id', 'tbp_lv_A', 'tbp_lv_Aext', 'tbp_lv_B', 'tbp_lv_Bext', \n",
    "            'tbp_lv_C', 'tbp_lv_Cext', 'tbp_lv_H', 'tbp_lv_Hext', 'tbp_lv_L',\n",
    "            'tbp_lv_Lext', 'tbp_lv_areaMM2', 'tbp_lv_area_perim_ratio', \n",
    "            'tbp_lv_color_std_mean', 'tbp_lv_deltaA', 'tbp_lv_deltaB', \n",
    "            'tbp_lv_deltaL', 'tbp_lv_deltaLB', 'tbp_lv_deltaLBnorm',\n",
    "            'tbp_lv_eccentricity', 'tbp_lv_nevi_confidence', 'tbp_lv_norm_border', \n",
    "            'tbp_lv_norm_color', 'tbp_lv_radial_color_std_max', 'tbp_lv_stdL', \n",
    "            'tbp_lv_stdLExt', 'tbp_lv_symm_2axis', 'tbp_lv_symm_2axis_angle']\n",
    "train_metadata = pd.read_csv(os.path.join(data_path, 'train-metadata.csv'), usecols=use_cols)\n",
    "test_metadata = pd.read_csv(os.path.join(data_path, 'test-metadata.csv'), usecols=use_cols)\n",
    "test_img_h5 = h5py.File(os.path.join(data_path, 'test-image.hdf5'), 'r')\n"
   ]
  },
  {
   "cell_type": "code",
   "execution_count": 5,
   "id": "45ff290c",
   "metadata": {
    "execution": {
     "iopub.execute_input": "2024-08-13T16:16:10.630186Z",
     "iopub.status.busy": "2024-08-13T16:16:10.629788Z",
     "iopub.status.idle": "2024-08-13T16:16:10.833341Z",
     "shell.execute_reply": "2024-08-13T16:16:10.832140Z"
    },
    "papermill": {
     "duration": 0.212921,
     "end_time": "2024-08-13T16:16:10.836312",
     "exception": false,
     "start_time": "2024-08-13T16:16:10.623391",
     "status": "completed"
    },
    "tags": []
   },
   "outputs": [],
   "source": [
    "pred_transform = transforms.Compose([\n",
    "    transforms.ToTensor(),\n",
    "    transforms.Resize(size=(128, 128), antialias=True),\n",
    "])\n",
    "\n",
    "train_metadata.drop('isic_id', axis=1, inplace=True)\n",
    "\n",
    "# 用训练元数据训练StandardScaler\n",
    "standard = StandardScaler()\n",
    "standard.fit(train_metadata)\n",
    "\n",
    "test_isic_id = test_metadata['isic_id']\n",
    "test_metadata.drop('isic_id', axis=1, inplace=True)\n",
    "test_metadata.index = test_isic_id"
   ]
  },
  {
   "cell_type": "code",
   "execution_count": 6,
   "id": "2f25d422",
   "metadata": {
    "execution": {
     "iopub.execute_input": "2024-08-13T16:16:10.848279Z",
     "iopub.status.busy": "2024-08-13T16:16:10.847872Z",
     "iopub.status.idle": "2024-08-13T16:16:11.140703Z",
     "shell.execute_reply": "2024-08-13T16:16:11.139610Z"
    },
    "papermill": {
     "duration": 0.30236,
     "end_time": "2024-08-13T16:16:11.143724",
     "exception": false,
     "start_time": "2024-08-13T16:16:10.841364",
     "status": "completed"
    },
    "tags": []
   },
   "outputs": [],
   "source": [
    "preds = []\n",
    "pred_len = len(test_isic_id)\n",
    "pred_batch = 128\n",
    "net.eval().to(device=device)\n",
    "batches = (pred_len // pred_batch) if (pred_len % pred_batch == 0) else (pred_len // pred_batch + 1)\n",
    "with torch.no_grad():\n",
    "    for i in range(batches):\n",
    "        pred_images = []\n",
    "        pred_metas = []\n",
    "        si = i * pred_batch\n",
    "        ei = (si + pred_batch) if (si + pred_batch) < pred_len else pred_len\n",
    "        for j in range(si, ei):\n",
    "            isic_id = test_isic_id[j]\n",
    "            pred_img = Image.open(io.BytesIO(test_img_h5[isic_id][...]))\n",
    "            pred_img = np.array(pred_img)\n",
    "            pred_img = pred_transform(pred_img)[None, ...]\n",
    "            pred_images.append(pred_img)\n",
    "\n",
    "            meta = test_metadata.loc[isic_id]\n",
    "            pred_meta = pd.DataFrame(meta.values.reshape(1, -1), columns=use_cols[1:])\n",
    "            pred_meta = standard.transform(pred_meta)\n",
    "            pred_metas.append(torch.tensor(pred_meta, dtype=torch.float32))\n",
    "\n",
    "        batch_img = torch.concat(pred_images, dim=0).to(device=device, dtype=torch.float32)\n",
    "        batch_meta = torch.concat(pred_metas, dim=0).to(device=device, dtype=torch.float32)\n",
    "\n",
    "        pred = net(batch_img, batch_meta)\n",
    "        pred_proba = torch.softmax(pred, dim=1)\n",
    "#         pred_proba = torch.sigmoid(pred)\n",
    "        pred_proba = pred_proba[:, 1]\n",
    "        preds.append(pred_proba)\n",
    "        if (i + 1) % 20 == 0:\n",
    "            print(f'{i + 1}/{batches}')"
   ]
  },
  {
   "cell_type": "code",
   "execution_count": 7,
   "id": "723308b8",
   "metadata": {
    "execution": {
     "iopub.execute_input": "2024-08-13T16:16:11.155528Z",
     "iopub.status.busy": "2024-08-13T16:16:11.155090Z",
     "iopub.status.idle": "2024-08-13T16:16:11.172022Z",
     "shell.execute_reply": "2024-08-13T16:16:11.170833Z"
    },
    "papermill": {
     "duration": 0.026472,
     "end_time": "2024-08-13T16:16:11.175372",
     "exception": false,
     "start_time": "2024-08-13T16:16:11.148900",
     "status": "completed"
    },
    "tags": []
   },
   "outputs": [
    {
     "name": "stdout",
     "output_type": "stream",
     "text": [
      "        isic_id    target\n",
      "0  ISIC_0015657  0.001436\n",
      "1  ISIC_0015729   0.00002\n",
      "2  ISIC_0015740   0.00013\n"
     ]
    }
   ],
   "source": [
    "if len(preds) > 1:\n",
    "    preds = torch.concat(preds, dim=0)\n",
    "else:\n",
    "    preds = preds[0]\n",
    "result = pd.DataFrame([test_isic_id.tolist(), preds.tolist()]).T\n",
    "result.columns = ['isic_id', 'target']\n",
    "print(result)\n",
    "result.to_csv('submission.csv', index=False, header=True)\n",
    "test_img_h5.close()"
   ]
  },
  {
   "cell_type": "code",
   "execution_count": null,
   "id": "76da73aa",
   "metadata": {
    "papermill": {
     "duration": 0.004799,
     "end_time": "2024-08-13T16:16:11.204851",
     "exception": false,
     "start_time": "2024-08-13T16:16:11.200052",
     "status": "completed"
    },
    "tags": []
   },
   "outputs": [],
   "source": []
  }
 ],
 "metadata": {
  "kaggle": {
   "accelerator": "none",
   "dataSources": [
    {
     "databundleVersionId": 9094797,
     "sourceId": 63056,
     "sourceType": "competition"
    },
    {
     "datasetId": 5525263,
     "sourceId": 9147300,
     "sourceType": "datasetVersion"
    },
    {
     "datasetId": 5535764,
     "sourceId": 9162600,
     "sourceType": "datasetVersion"
    },
    {
     "datasetId": 5539227,
     "sourceId": 9167205,
     "sourceType": "datasetVersion"
    }
   ],
   "dockerImageVersionId": 30746,
   "isGpuEnabled": false,
   "isInternetEnabled": false,
   "language": "python",
   "sourceType": "notebook"
  },
  "kernelspec": {
   "display_name": "Python 3 (ipykernel)",
   "language": "python",
   "name": "python3"
  },
  "language_info": {
   "codemirror_mode": {
    "name": "ipython",
    "version": 3
   },
   "file_extension": ".py",
   "mimetype": "text/x-python",
   "name": "python",
   "nbconvert_exporter": "python",
   "pygments_lexer": "ipython3",
   "version": "3.8.19"
  },
  "papermill": {
   "default_parameters": {},
   "duration": 24.359938,
   "end_time": "2024-08-13T16:16:12.534447",
   "environment_variables": {},
   "exception": null,
   "input_path": "__notebook__.ipynb",
   "output_path": "__notebook__.ipynb",
   "parameters": {},
   "start_time": "2024-08-13T16:15:48.174509",
   "version": "2.5.0"
  }
 },
 "nbformat": 4,
 "nbformat_minor": 5
}
